{
 "cells": [
  {
   "cell_type": "markdown",
   "metadata": {
    "collapsed": false,
    "jupyter": {
     "outputs_hidden": false
    },
    "pycharm": {
     "name": "#%% md\n"
    }
   },
   "source": [
    "jupyter notebook\n",
    "\n",
    "在这个示例中，我们将使用Python和PyTorch来构建和训练一个简单的CNN模型，用于对手写数字进行分类。我们将使用MNIST数据集，这是一个包含手写数字图像的常用数据集。\n",
    "步骤1：准备数据\n",
    "首先准备数据集。可以使用PyTorch的torchvision库来加载MNIST数据集。"
   ]
  },
  {
   "cell_type": "code",
   "execution_count": 1,
   "metadata": {
    "collapsed": false,
    "jupyter": {
     "outputs_hidden": false
    },
    "pycharm": {
     "name": "#%%\n"
    }
   },
   "outputs": [
    {
     "ename": "NameError",
     "evalue": "name 'trainset' is not defined",
     "output_type": "error",
     "traceback": [
      "\u001B[1;31m---------------------------------------------------------------------------\u001B[0m",
      "\u001B[1;31mNameError\u001B[0m                                 Traceback (most recent call last)",
      "Cell \u001B[1;32mIn[1], line 13\u001B[0m\n\u001B[0;32m      6\u001B[0m transform \u001B[38;5;241m=\u001B[39m transforms\u001B[38;5;241m.\u001B[39mCompose([transforms\u001B[38;5;241m.\u001B[39mToTensor(), transforms\u001B[38;5;241m.\u001B[39mNormalize((\u001B[38;5;241m0.5\u001B[39m,), (\u001B[38;5;241m0.5\u001B[39m,))])\n\u001B[0;32m      8\u001B[0m \u001B[38;5;66;03m# 下载并加载MNIST数据集\u001B[39;00m\n\u001B[0;32m      9\u001B[0m \u001B[38;5;66;03m# trainset = torchvision.datasets.MNIST(root='./data', train=True, transform=transform, download=True)\u001B[39;00m\n\u001B[0;32m     10\u001B[0m \u001B[38;5;66;03m# trainloader = torch.utils.data.DataLoader(trainset, batch_size=64, shuffle=True)\u001B[39;00m\n\u001B[0;32m     11\u001B[0m \n\u001B[0;32m     12\u001B[0m \u001B[38;5;66;03m# 演示环境中，减少训练集的总样本数\u001B[39;00m\n\u001B[1;32m---> 13\u001B[0m reduced_trainset \u001B[38;5;241m=\u001B[39m torch\u001B[38;5;241m.\u001B[39mutils\u001B[38;5;241m.\u001B[39mdata\u001B[38;5;241m.\u001B[39mSubset(\u001B[43mtrainset\u001B[49m, \u001B[38;5;28mrange\u001B[39m(\u001B[38;5;241m10\u001B[39m \u001B[38;5;241m*\u001B[39m \u001B[38;5;241m64\u001B[39m))  \u001B[38;5;66;03m# 10批次 x 64样本/批次 = 总共640个样本\u001B[39;00m\n\u001B[0;32m     14\u001B[0m trainloader \u001B[38;5;241m=\u001B[39m torch\u001B[38;5;241m.\u001B[39mutils\u001B[38;5;241m.\u001B[39mdata\u001B[38;5;241m.\u001B[39mDataLoader(reduced_trainset, batch_size\u001B[38;5;241m=\u001B[39m\u001B[38;5;241m64\u001B[39m, shuffle\u001B[38;5;241m=\u001B[39m\u001B[38;5;28;01mTrue\u001B[39;00m)\n",
      "\u001B[1;31mNameError\u001B[0m: name 'trainset' is not defined"
     ]
    }
   ],
   "source": [
    "import torch\n",
    "import torchvision\n",
    "import torchvision.transforms as transforms\n",
    "\n",
    "# 定义数据预处理\n",
    "transform = transforms.Compose([transforms.ToTensor(), transforms.Normalize((0.5,), (0.5,))])\n",
    "\n",
    "# 下载并加载MNIST数据集\n",
    "trainset = torchvision.datasets.MNIST(root='./data', train=True, transform=transform, download=True)\n",
    "# trainloader = torch.utils.data.DataLoader(trainset, batch_size=64, shuffle=True)\n",
    "\n",
    "# 演示环境中，减少训练集的总样本数\n",
    "reduced_trainset = torch.utils.data.Subset(trainset, range(70 * 64))\n",
    "trainloader = torch.utils.data.DataLoader(reduced_trainset, batch_size=64, shuffle=True)"
   ]
  },
  {
   "cell_type": "code",
   "execution_count": null,
   "metadata": {
    "collapsed": false,
    "jupyter": {
     "outputs_hidden": false
    },
    "pycharm": {
     "name": "#%%\n"
    }
   },
   "outputs": [],
   "source": [
    "# Define data transformation for the test dataset (similar to what you did for the training dataset)\n",
    "test_transform = transforms.Compose([transforms.ToTensor(), transforms.Normalize((0.5,), (0.5,))])\n",
    "\n",
    "# Download and load the MNIST test dataset\n",
    "testset = torchvision.datasets.MNIST(root='./data', train=False, transform=test_transform, download=True)\n",
    "testloader = torch.utils.data.DataLoader(testset, batch_size=64, shuffle=False)"
   ]
  },
  {
   "cell_type": "markdown",
   "metadata": {
    "collapsed": false,
    "jupyter": {
     "outputs_hidden": false
    },
    "pycharm": {
     "name": "#%% md\n"
    }
   },
   "source": [
    "步骤2：构建CNN模型\n",
    "\n",
    "接下来，您需要构建一个简单的CNN模型。以下是一个简化的示例："
   ]
  },
  {
   "cell_type": "code",
   "execution_count": null,
   "metadata": {
    "collapsed": false,
    "jupyter": {
     "outputs_hidden": false
    },
    "pycharm": {
     "name": "#%%\n"
    }
   },
   "outputs": [],
   "source": [
    "import torch.nn as nn\n",
    "import torch.nn.functional as F\n",
    "\n",
    "class Net(nn.Module):\n",
    "    def __init__(self):\n",
    "        super(Net, self).__init__()\n",
    "        self.conv1 = nn.Conv2d(1, 32, 3)\n",
    "        self.pool = nn.MaxPool2d(2, 2)\n",
    "        self.fc1 = nn.Linear(32 * 13 * 13, 128)\n",
    "        self.fc2 = nn.Linear(128, 10)\n",
    "\n",
    "    def forward(self, x):\n",
    "        x = self.pool(F.relu(self.conv1(x)))\n",
    "        x = x.view(-1, 32 * 13 * 13)\n",
    "        x = F.relu(self.fc1(x))\n",
    "        x = self.fc2(x)\n",
    "        return x\n",
    "\n",
    "net = Net()"
   ]
  },
  {
   "cell_type": "markdown",
   "metadata": {
    "collapsed": false,
    "jupyter": {
     "outputs_hidden": false
    },
    "pycharm": {
     "name": "#%% md\n"
    }
   },
   "source": [
    "步骤3：定义损失函数和优化器\n",
    "\n",
    "在模型训练之前，您需要定义损失函数和优化器。"
   ]
  },
  {
   "cell_type": "code",
   "execution_count": null,
   "metadata": {
    "collapsed": false,
    "jupyter": {
     "outputs_hidden": false
    },
    "pycharm": {
     "name": "#%%\n"
    }
   },
   "outputs": [],
   "source": [
    "import torch.optim as optim\n",
    "\n",
    "criterion = nn.CrossEntropyLoss()\n",
    "optimizer = optim.SGD(net.parameters(), lr=0.001, momentum=0.9)"
   ]
  },
  {
   "cell_type": "markdown",
   "metadata": {
    "collapsed": false,
    "jupyter": {
     "outputs_hidden": false
    },
    "pycharm": {
     "name": "#%% md\n"
    }
   },
   "source": [
    "步骤4：训练模型\n",
    "\n",
    "现在，您可以开始训练模型。在训练循环中，您将迭代遍历数据集并更新模型的权重。"
   ]
  },
  {
   "cell_type": "code",
   "execution_count": null,
   "metadata": {
    "collapsed": false,
    "jupyter": {
     "outputs_hidden": false
    },
    "pycharm": {
     "name": "#%%\n"
    }
   },
   "outputs": [],
   "source": [
    "from tqdm.auto import tqdm\n",
    "\n",
    "for epoch in range(4):  # 这里选择训练1个周期，您可以根据需要调整\n",
    "    running_loss = 0.0\n",
    "    for i, data in tqdm(enumerate(trainloader, 0)):\n",
    "        inputs, labels = data\n",
    "        optimizer.zero_grad()\n",
    "        outputs = net(inputs)\n",
    "        loss = criterion(outputs, labels)\n",
    "        loss.backward()\n",
    "        optimizer.step()\n",
    "        running_loss += loss.item()\n",
    "    print(f\"Epoch {epoch+1}, Loss: {running_loss/len(trainloader)}\")"
   ]
  },
  {
   "cell_type": "code",
   "execution_count": null,
   "metadata": {
    "collapsed": false,
    "jupyter": {
     "outputs_hidden": false
    },
    "pycharm": {
     "name": "#%%\n"
    }
   },
   "outputs": [],
   "source": [
    "correct = 0\n",
    "total = 0\n",
    "with torch.no_grad():\n",
    "    for data in testloader:\n",
    "        inputs, labels = data\n",
    "        outputs = net(inputs)\n",
    "        _, predicted = torch.max(outputs.data, 1)\n",
    "        total += labels.size(0)\n",
    "        correct += (predicted == labels).sum().item()\n",
    "\n",
    "print(f\"Accuracy on test data: {100 * correct / total}%\")"
   ]
  },
  {
   "cell_type": "code",
   "execution_count": null,
   "outputs": [],
   "source": [
    "import matplotlib.pyplot as plt\n",
    "import numpy as np\n",
    "\n",
    "# 选择一些图像进行可视化\n",
    "num_samples_to_visualize = 5  # 选择要可视化的样本数量\n",
    "\n",
    "# 将模型设置为评估模式，以确保不会进行梯度计算\n",
    "net.eval()\n",
    "\n",
    "# 创建一个新的测试数据加载器，以确保选择的图像不会影响后续测试\n",
    "vis_testloader = torch.utils.data.DataLoader(testset, batch_size=num_samples_to_visualize, shuffle=True)\n",
    "\n",
    "# 获取一批测试图像和标签\n",
    "with torch.no_grad():\n",
    "    data = next(iter(vis_testloader))\n",
    "    inputs, labels = data\n",
    "    outputs = net(inputs)\n",
    "    _, predicted = torch.max(outputs.data, 1)\n",
    "\n",
    "# 可视化选择的图像和模型的预测结果\n",
    "fig, axs = plt.subplots(1, num_samples_to_visualize, figsize=(15, 3))\n",
    "\n",
    "for i in range(num_samples_to_visualize):\n",
    "    img = inputs[i] / 2 + 0.5  # 反归一化图像数据\n",
    "    img = img.numpy()\n",
    "    label = labels[i].item()\n",
    "    prediction = predicted[i].item()\n",
    "\n",
    "    axs[i].imshow(np.transpose(img, (1, 2, 0)))\n",
    "    axs[i].set_title(f\"Label: {label}\\nPredicted: {prediction}\")\n",
    "\n",
    "plt.show()"
   ],
   "metadata": {
    "collapsed": false,
    "pycharm": {
     "name": "#%%\n"
    }
   }
  }
 ],
 "metadata": {
  "kernelspec": {
   "display_name": "Python 3 (ipykernel)",
   "language": "python",
   "name": "python3"
  },
  "language_info": {
   "codemirror_mode": {
    "name": "ipython",
    "version": 3
   },
   "file_extension": ".py",
   "mimetype": "text/x-python",
   "name": "python",
   "nbconvert_exporter": "python",
   "pygments_lexer": "ipython3",
   "version": "3.9.12"
  }
 },
 "nbformat": 4,
 "nbformat_minor": 4
}